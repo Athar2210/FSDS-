{
  "nbformat": 4,
  "nbformat_minor": 0,
  "metadata": {
    "colab": {
      "provenance": []
    },
    "kernelspec": {
      "name": "python3",
      "display_name": "Python 3"
    },
    "language_info": {
      "name": "python"
    }
  },
  "cells": [
    {
      "cell_type": "markdown",
      "source": [
        "1. What does an empty dictionary's code look like?"
      ],
      "metadata": {
        "id": "d2LGdukgqAtP"
      }
    },
    {
      "cell_type": "code",
      "source": [
        "mydict = dict()\n",
        "print(mydict)"
      ],
      "metadata": {
        "colab": {
          "base_uri": "https://localhost:8080/"
        },
        "id": "4SgXze8eqDvP",
        "outputId": "29b8961a-3bb0-4992-c778-6c0652d1274b"
      },
      "execution_count": 1,
      "outputs": [
        {
          "output_type": "stream",
          "name": "stdout",
          "text": [
            "{}\n"
          ]
        }
      ]
    },
    {
      "cell_type": "markdown",
      "source": [
        "2. What is the value of a dictionary value with the key 'foo' and the value 42?"
      ],
      "metadata": {
        "id": "STgHEK20qNxc"
      }
    },
    {
      "cell_type": "code",
      "source": [
        "mydict = dict(foo = 42)\n",
        "print(mydict[\"foo\"])"
      ],
      "metadata": {
        "colab": {
          "base_uri": "https://localhost:8080/"
        },
        "id": "Cul8n7xqqPHg",
        "outputId": "0da1e656-490b-46e4-d16e-347b154f7083"
      },
      "execution_count": 5,
      "outputs": [
        {
          "output_type": "stream",
          "name": "stdout",
          "text": [
            "42\n"
          ]
        }
      ]
    },
    {
      "cell_type": "markdown",
      "source": [
        "3. What is the most significant distinction between a dictionary and a list?"
      ],
      "metadata": {
        "id": "ialpJj4jrQ9d"
      }
    },
    {
      "cell_type": "markdown",
      "source": [
        "Ans:\n",
        "\n",
        "\n",
        "1.  List - items in list are Ordered\n",
        "2.  Dictionary : iten in dictionary are unordered\n",
        "\n"
      ],
      "metadata": {
        "id": "0vDl7abTrf25"
      }
    },
    {
      "cell_type": "markdown",
      "source": [
        "4. What happens if you try to access spam['foo'] if spam is {'bar': 100}?"
      ],
      "metadata": {
        "id": "cfFsSdVirmS0"
      }
    },
    {
      "cell_type": "code",
      "source": [
        "spam = {'bar':100}\n",
        "spam['foo']"
      ],
      "metadata": {
        "colab": {
          "base_uri": "https://localhost:8080/",
          "height": 193
        },
        "id": "hubIUltqryWN",
        "outputId": "a548720b-78e4-4ef9-b50b-11cf297c40ec"
      },
      "execution_count": 6,
      "outputs": [
        {
          "output_type": "error",
          "ename": "KeyError",
          "evalue": "ignored",
          "traceback": [
            "\u001b[0;31m---------------------------------------------------------------------------\u001b[0m",
            "\u001b[0;31mKeyError\u001b[0m                                  Traceback (most recent call last)",
            "\u001b[0;32m<ipython-input-6-cea1cd791e68>\u001b[0m in \u001b[0;36m<cell line: 2>\u001b[0;34m()\u001b[0m\n\u001b[1;32m      1\u001b[0m \u001b[0mspam\u001b[0m \u001b[0;34m=\u001b[0m \u001b[0;34m{\u001b[0m\u001b[0;34m'bar'\u001b[0m\u001b[0;34m:\u001b[0m\u001b[0;36m100\u001b[0m\u001b[0;34m}\u001b[0m\u001b[0;34m\u001b[0m\u001b[0;34m\u001b[0m\u001b[0m\n\u001b[0;32m----> 2\u001b[0;31m \u001b[0mspam\u001b[0m\u001b[0;34m[\u001b[0m\u001b[0;34m'foo'\u001b[0m\u001b[0;34m]\u001b[0m\u001b[0;34m\u001b[0m\u001b[0;34m\u001b[0m\u001b[0m\n\u001b[0m",
            "\u001b[0;31mKeyError\u001b[0m: 'foo'"
          ]
        }
      ]
    },
    {
      "cell_type": "markdown",
      "source": [
        "5. If a dictionary is stored in spam, what is the difference between the expressions 'cat' in spam and 'cat' in spam.keys()?"
      ],
      "metadata": {
        "id": "y2YitfY_r9u8"
      }
    },
    {
      "cell_type": "code",
      "source": [
        "spam = {'cat':'Animal'}\n",
        "print('cat' in spam)   #Return boolean, check whethers cat in spam or not\n",
        "print(spam.keys())  #Returns keys in dictionary spam"
      ],
      "metadata": {
        "colab": {
          "base_uri": "https://localhost:8080/"
        },
        "id": "TOt8Y7BOsAq_",
        "outputId": "82220fb0-9844-425b-9f7d-842a6448c75c"
      },
      "execution_count": 9,
      "outputs": [
        {
          "output_type": "stream",
          "name": "stdout",
          "text": [
            "True\n",
            "dict_keys(['cat'])\n"
          ]
        }
      ]
    },
    {
      "cell_type": "markdown",
      "source": [
        "6. If a dictionary is stored in spam, what is the difference between the expressions 'cat' in spam and 'cat' in spam.values()?"
      ],
      "metadata": {
        "id": "Hso6BpCNspRZ"
      }
    },
    {
      "cell_type": "code",
      "source": [
        "spam = {'cat':'Animal'}\n",
        "print('cat' in spam)   #Return boolean, check whethers cat in spam or not\n",
        "print('cat' in spam.values())  #Returns whether cat is in values of dictionary spam"
      ],
      "metadata": {
        "colab": {
          "base_uri": "https://localhost:8080/"
        },
        "id": "GG4srL09stB7",
        "outputId": "4a33b177-fb3b-4517-8c9d-96b2ca2c5a52"
      },
      "execution_count": 12,
      "outputs": [
        {
          "output_type": "stream",
          "name": "stdout",
          "text": [
            "True\n",
            "False\n"
          ]
        }
      ]
    },
    {
      "cell_type": "markdown",
      "source": [
        "7. What is a shortcut for the following code?\n",
        "if 'color' not in spam:\n",
        "spam['color'] = 'black'\n"
      ],
      "metadata": {
        "id": "BraFVj2Js1Zf"
      }
    },
    {
      "cell_type": "code",
      "source": [
        "spam ={'cat':100}\n",
        "spam.setdefault('color','black')\n",
        "spam\n"
      ],
      "metadata": {
        "colab": {
          "base_uri": "https://localhost:8080/"
        },
        "id": "9wBPopkis7VS",
        "outputId": "88bd3e4c-8b7f-4c85-d7c7-a3ba72f07119"
      },
      "execution_count": 13,
      "outputs": [
        {
          "output_type": "execute_result",
          "data": {
            "text/plain": [
              "{'cat': 100, 'color': 'black'}"
            ]
          },
          "metadata": {},
          "execution_count": 13
        }
      ]
    },
    {
      "cell_type": "markdown",
      "source": [
        "8. How do you \"pretty print\" dictionary values using which module and function?"
      ],
      "metadata": {
        "id": "RwVj9eAOtcl7"
      }
    },
    {
      "cell_type": "code",
      "source": [
        "import pprint    #module"
      ],
      "metadata": {
        "id": "E-7z9XNitgpl"
      },
      "execution_count": 14,
      "outputs": []
    },
    {
      "cell_type": "code",
      "source": [
        "dct = [ {'Name': 'Athar', 'Age': '32', 'Salary': 20000},\n",
        "  {'Name': 'Amar', 'Age': '33', 'Salary': 30000},\n",
        "  {'Name': 'Anthony', 'Age': '29', 'Salary': 50000},\n",
        "]"
      ],
      "metadata": {
        "id": "ROkf2-cCtkmd"
      },
      "execution_count": 15,
      "outputs": []
    },
    {
      "cell_type": "code",
      "source": [
        "pprint.pprint(dct)     #function"
      ],
      "metadata": {
        "colab": {
          "base_uri": "https://localhost:8080/"
        },
        "id": "htbo6rD0uFDK",
        "outputId": "79db896f-c510-40b2-8702-030ef4ad755d"
      },
      "execution_count": 16,
      "outputs": [
        {
          "output_type": "stream",
          "name": "stdout",
          "text": [
            "[{'Age': '32', 'Name': 'Athar', 'Salary': 20000},\n",
            " {'Age': '33', 'Name': 'Amar', 'Salary': 30000},\n",
            " {'Age': '29', 'Name': 'Anthony', 'Salary': 50000}]\n"
          ]
        }
      ]
    },
    {
      "cell_type": "code",
      "source": [
        "print(dct)"
      ],
      "metadata": {
        "colab": {
          "base_uri": "https://localhost:8080/"
        },
        "id": "WmpM0HG3uOCY",
        "outputId": "4a34aba7-3a46-4690-c6d8-9cb72fe11486"
      },
      "execution_count": 18,
      "outputs": [
        {
          "output_type": "stream",
          "name": "stdout",
          "text": [
            "[{'Name': 'Athar', 'Age': '32', 'Salary': 20000}, {'Name': 'Amar', 'Age': '33', 'Salary': 30000}, {'Name': 'Anthony', 'Age': '29', 'Salary': 50000}]\n"
          ]
        }
      ]
    }
  ]
}