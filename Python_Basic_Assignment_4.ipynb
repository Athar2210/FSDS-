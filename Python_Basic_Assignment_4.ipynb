{
  "nbformat": 4,
  "nbformat_minor": 0,
  "metadata": {
    "colab": {
      "provenance": []
    },
    "kernelspec": {
      "name": "python3",
      "display_name": "Python 3"
    },
    "language_info": {
      "name": "python"
    }
  },
  "cells": [
    {
      "cell_type": "markdown",
      "source": [
        "# Python Basic Assignment No. 04"
      ],
      "metadata": {
        "id": "GgpczmO-YYCh"
      }
    },
    {
      "cell_type": "markdown",
      "source": [
        "1. What exactly is [ ]?"
      ],
      "metadata": {
        "id": "CcOFueNJYknz"
      }
    },
    {
      "cell_type": "markdown",
      "source": [
        "Ans: [ ] is a empty list"
      ],
      "metadata": {
        "id": "jnrSv-AjZQ7i"
      }
    },
    {
      "cell_type": "markdown",
      "source": [
        " 2. In a list of values stored in a variable called spam, how would you assign the value hello' as the third value? (Assume [2, 4, 6, 8, 10] are in spam.)"
      ],
      "metadata": {
        "id": "n9S3D1vvYvLc"
      }
    },
    {
      "cell_type": "code",
      "source": [
        "spam = [2,4,6,8,10]\n",
        "spam[2] = \"hello\"\n",
        "spam\n"
      ],
      "metadata": {
        "colab": {
          "base_uri": "https://localhost:8080/"
        },
        "id": "_l7cLktYY2pD",
        "outputId": "ae87360d-e297-4cb6-93fc-dffb3f155c49"
      },
      "execution_count": 1,
      "outputs": [
        {
          "output_type": "execute_result",
          "data": {
            "text/plain": [
              "[2, 4, 'hello', 8, 10]"
            ]
          },
          "metadata": {},
          "execution_count": 1
        }
      ]
    },
    {
      "cell_type": "markdown",
      "source": [
        "#Lets pretend the spam includes the list ['a', 'b','c','d'] for the next three queries."
      ],
      "metadata": {
        "id": "a7ISv8sOZW2K"
      }
    },
    {
      "cell_type": "markdown",
      "source": [
        "3. What is the value of spam[int(int(3 * 2) / 11)]?"
      ],
      "metadata": {
        "id": "AEJ_h0OzZc7w"
      }
    },
    {
      "cell_type": "code",
      "source": [
        "spam = ['a', 'b','c','d']\n",
        "spam[int(int('3' * 2) / 11)]"
      ],
      "metadata": {
        "colab": {
          "base_uri": "https://localhost:8080/",
          "height": 35
        },
        "id": "SgWWpjUdZjjT",
        "outputId": "73c0fb26-ad61-4e01-c22d-aea31c3e44c2"
      },
      "execution_count": 2,
      "outputs": [
        {
          "output_type": "execute_result",
          "data": {
            "text/plain": [
              "'d'"
            ],
            "application/vnd.google.colaboratory.intrinsic+json": {
              "type": "string"
            }
          },
          "metadata": {},
          "execution_count": 2
        }
      ]
    },
    {
      "cell_type": "markdown",
      "source": [
        "4. What is the value of spam[-1]?"
      ],
      "metadata": {
        "id": "njYt4qz0ZukC"
      }
    },
    {
      "cell_type": "code",
      "source": [
        "spam = ['a', 'b','c','d']\n",
        "spam[-1]"
      ],
      "metadata": {
        "colab": {
          "base_uri": "https://localhost:8080/",
          "height": 35
        },
        "id": "kLci0BO_ZyhK",
        "outputId": "a11387d1-a507-4369-b471-c6a3a01cfd26"
      },
      "execution_count": 3,
      "outputs": [
        {
          "output_type": "execute_result",
          "data": {
            "text/plain": [
              "'d'"
            ],
            "application/vnd.google.colaboratory.intrinsic+json": {
              "type": "string"
            }
          },
          "metadata": {},
          "execution_count": 3
        }
      ]
    },
    {
      "cell_type": "markdown",
      "source": [
        "5. What is the value of spam[:2]?"
      ],
      "metadata": {
        "id": "51Tp72ipZ2EV"
      }
    },
    {
      "cell_type": "code",
      "source": [
        "spam = ['a', 'b','c','d']\n",
        "spam[:2]"
      ],
      "metadata": {
        "colab": {
          "base_uri": "https://localhost:8080/"
        },
        "id": "nlVrF_AdZ5bY",
        "outputId": "f4dd46c4-db2a-4b30-8e02-7a826f19f1b6"
      },
      "execution_count": 4,
      "outputs": [
        {
          "output_type": "execute_result",
          "data": {
            "text/plain": [
              "['a', 'b']"
            ]
          },
          "metadata": {},
          "execution_count": 4
        }
      ]
    },
    {
      "cell_type": "markdown",
      "source": [
        "#Let's pretend bacon has the list [3.14, 'cat' 11, 'cat' True] for the next three questions."
      ],
      "metadata": {
        "id": "1meObqgOaC8b"
      }
    },
    {
      "cell_type": "markdown",
      "source": [
        "6. What is the value of bacon.index('cat')?"
      ],
      "metadata": {
        "id": "wEkKwP2HaGxe"
      }
    },
    {
      "cell_type": "code",
      "source": [
        "bacon = [3.14, 'cat', 11, 'cat', True]\n",
        "bacon.index('cat')"
      ],
      "metadata": {
        "colab": {
          "base_uri": "https://localhost:8080/"
        },
        "id": "eayHYmJzaPFN",
        "outputId": "48293395-b364-44ba-8485-229b274278a7"
      },
      "execution_count": 5,
      "outputs": [
        {
          "output_type": "execute_result",
          "data": {
            "text/plain": [
              "1"
            ]
          },
          "metadata": {},
          "execution_count": 5
        }
      ]
    },
    {
      "cell_type": "markdown",
      "source": [
        "7. How does bacon.append(99) change the look of the list value in bacon?"
      ],
      "metadata": {
        "id": "xU6extKLaXlg"
      }
    },
    {
      "cell_type": "code",
      "source": [
        "bacon = [3.14, 'cat', 11, 'cat', True]\n",
        "bacon.append(99)\n",
        "bacon"
      ],
      "metadata": {
        "colab": {
          "base_uri": "https://localhost:8080/"
        },
        "id": "67kGCud_abhQ",
        "outputId": "289860d1-0dbc-40e1-a0db-66ce2e76ae6b"
      },
      "execution_count": 7,
      "outputs": [
        {
          "output_type": "execute_result",
          "data": {
            "text/plain": [
              "[3.14, 'cat', 11, 'cat', True, 99]"
            ]
          },
          "metadata": {},
          "execution_count": 7
        }
      ]
    },
    {
      "cell_type": "markdown",
      "source": [
        "8. How does bacon.remove('cat') change the look of the list in bacon?"
      ],
      "metadata": {
        "id": "MCn0W-fNakvX"
      }
    },
    {
      "cell_type": "code",
      "source": [
        "bacon = [3.14, 'cat', 11, 'cat', True]\n",
        "bacon.remove('cat')\n",
        "bacon"
      ],
      "metadata": {
        "colab": {
          "base_uri": "https://localhost:8080/"
        },
        "id": "j-z6qgzRat-d",
        "outputId": "9bbd266b-04f1-4f7c-d9fb-143d5b02c879"
      },
      "execution_count": 8,
      "outputs": [
        {
          "output_type": "execute_result",
          "data": {
            "text/plain": [
              "[3.14, 11, 'cat', True]"
            ]
          },
          "metadata": {},
          "execution_count": 8
        }
      ]
    },
    {
      "cell_type": "markdown",
      "source": [
        "9. What are the list concatenation and list replication operators?"
      ],
      "metadata": {
        "id": "KfQ4WTxia56_"
      }
    },
    {
      "cell_type": "markdown",
      "source": [
        "Ans: * : List replication\n",
        "     + : List Concatenation"
      ],
      "metadata": {
        "id": "AWEtAzb3bEG7"
      }
    },
    {
      "cell_type": "markdown",
      "source": [
        "10. What is difference between the list methods append() and insert()?"
      ],
      "metadata": {
        "id": "Pm_g5NH3bUq4"
      }
    },
    {
      "cell_type": "markdown",
      "source": [
        "Ans:\n",
        "\n",
        "*   append() Appends object to the end of the list\n",
        "*   insert() Insert object at index\n",
        "\n"
      ],
      "metadata": {
        "id": "A8zzaMdfbx10"
      }
    },
    {
      "cell_type": "markdown",
      "source": [
        "11. What are the two methods for removing items from a list?"
      ],
      "metadata": {
        "id": "EoFvNAxYcZUy"
      }
    },
    {
      "cell_type": "markdown",
      "source": [
        "\n",
        "\n",
        "1.   Pop\n",
        "2.   Remove\n",
        "\n"
      ],
      "metadata": {
        "id": "zDcyNrOxcjHO"
      }
    },
    {
      "cell_type": "markdown",
      "source": [
        "12. Describe how list values and string values are identical."
      ],
      "metadata": {
        "id": "oQCuU86ect5V"
      }
    },
    {
      "cell_type": "markdown",
      "source": [
        "Ans:\n",
        "\n",
        "1.   Both lists and strings can be passed to len()\n",
        "2.   Have indexes and slices\n",
        "3.   Can be used in for loops\n",
        "4.   Can be concatenated or replicated\n",
        "5.   Can be used with the in and not in operators\n",
        "\n",
        "\n"
      ],
      "metadata": {
        "id": "gsiUH1s4c0V3"
      }
    },
    {
      "cell_type": "markdown",
      "source": [
        "13. What's the difference between tuples and lists?"
      ],
      "metadata": {
        "id": "6FwdaEjIdLh4"
      }
    },
    {
      "cell_type": "markdown",
      "source": [
        "Ans:\n",
        "\n",
        "1.   Lists : are mutable - they can have values added, removed, or changed. lists use the square brackets,\n",
        "2.   Tuples : are immutable; they cannot be changed at all. Tuples are written using parentheses\n",
        "\n"
      ],
      "metadata": {
        "id": "4cF0sFBFdP_w"
      }
    },
    {
      "cell_type": "markdown",
      "source": [
        "14. How do you type a tuple value that only contains the integer 42?"
      ],
      "metadata": {
        "id": "oXM73E-0ddlq"
      }
    },
    {
      "cell_type": "code",
      "source": [
        "t = (42,)\n",
        "print(t)\n",
        "type(t)"
      ],
      "metadata": {
        "colab": {
          "base_uri": "https://localhost:8080/"
        },
        "id": "C1tmhma7dqpF",
        "outputId": "f64376a1-928f-40ac-f574-b5386ceebc0f"
      },
      "execution_count": 15,
      "outputs": [
        {
          "output_type": "stream",
          "name": "stdout",
          "text": [
            "(42,)\n"
          ]
        },
        {
          "output_type": "execute_result",
          "data": {
            "text/plain": [
              "tuple"
            ]
          },
          "metadata": {},
          "execution_count": 15
        }
      ]
    },
    {
      "cell_type": "markdown",
      "source": [
        "15. How do you get a list value's tuple form? How do you get a tuple value's list form?"
      ],
      "metadata": {
        "id": "9fAH1sm_d8t9"
      }
    },
    {
      "cell_type": "code",
      "source": [
        "t1 = (2,3)\n",
        "l1 = list(t1)\n",
        "print(l1)\n",
        "type(l1)"
      ],
      "metadata": {
        "colab": {
          "base_uri": "https://localhost:8080/"
        },
        "id": "1SkP70PbeH1h",
        "outputId": "24c9fd02-1d46-4832-dd79-26f43b04d865"
      },
      "execution_count": 14,
      "outputs": [
        {
          "output_type": "stream",
          "name": "stdout",
          "text": [
            "[2, 3]\n"
          ]
        },
        {
          "output_type": "execute_result",
          "data": {
            "text/plain": [
              "list"
            ]
          },
          "metadata": {},
          "execution_count": 14
        }
      ]
    },
    {
      "cell_type": "code",
      "source": [
        "l2 = [44,45]\n",
        "t2 = tuple(l2)\n",
        "print(t2)\n",
        "type(t2)"
      ],
      "metadata": {
        "colab": {
          "base_uri": "https://localhost:8080/"
        },
        "id": "9F_0C8mseelG",
        "outputId": "5c6a1491-cc79-44c1-cd3d-077ede5f07e8"
      },
      "execution_count": 16,
      "outputs": [
        {
          "output_type": "stream",
          "name": "stdout",
          "text": [
            "(44, 45)\n"
          ]
        },
        {
          "output_type": "execute_result",
          "data": {
            "text/plain": [
              "tuple"
            ]
          },
          "metadata": {},
          "execution_count": 16
        }
      ]
    },
    {
      "cell_type": "markdown",
      "source": [
        "16. Variables that \"contain\" list values are not necessarily lists themselves. Instead, what do they contain?"
      ],
      "metadata": {
        "id": "qTTk_-M9ewKt"
      }
    },
    {
      "cell_type": "markdown",
      "source": [
        "Ans: They contain references to list values"
      ],
      "metadata": {
        "id": "xhsYc41EeyDu"
      }
    },
    {
      "cell_type": "markdown",
      "source": [
        "17. How do you distinguish between copy.copy() and copy.deepcopy()?"
      ],
      "metadata": {
        "id": "wTMS8Yvge1v2"
      }
    },
    {
      "cell_type": "markdown",
      "source": [
        "Ans:\n",
        "1. The copy.copy() function will do a shallow copy of a list,\n",
        "2. The copy.deepcopy() function will do a deep copy of a list."
      ],
      "metadata": {
        "id": "v8lb1foie4qX"
      }
    }
  ]
}